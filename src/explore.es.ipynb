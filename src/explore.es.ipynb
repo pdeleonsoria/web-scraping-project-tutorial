{
    "cells": [
        {
            "cell_type": "markdown",
            "metadata": {},
            "source": [
                "# Explora aquí\n",
                "\n",
                "Se recomienda utilizar este cuaderno con fines de exploración."
            ]
        },
        {
            "cell_type": "code",
            "execution_count": 24,
            "metadata": {},
            "outputs": [
                {
                    "data": {
                        "text/html": [
                            "<div>\n",
                            "<style scoped>\n",
                            "    .dataframe tbody tr th:only-of-type {\n",
                            "        vertical-align: middle;\n",
                            "    }\n",
                            "\n",
                            "    .dataframe tbody tr th {\n",
                            "        vertical-align: top;\n",
                            "    }\n",
                            "\n",
                            "    .dataframe thead th {\n",
                            "        text-align: right;\n",
                            "    }\n",
                            "</style>\n",
                            "<table border=\"1\" class=\"dataframe\">\n",
                            "  <thead>\n",
                            "    <tr style=\"text-align: right;\">\n",
                            "      <th></th>\n",
                            "      <th>Fecha</th>\n",
                            "      <th>Ingresos</th>\n",
                            "    </tr>\n",
                            "  </thead>\n",
                            "  <tbody>\n",
                            "    <tr>\n",
                            "      <th>0</th>\n",
                            "      <td>Net Income (Quarterly)</td>\n",
                            "      <td>\\n                                \\n          ...</td>\n",
                            "    </tr>\n",
                            "    <tr>\n",
                            "      <th>1</th>\n",
                            "      <td>Total Expenses (Quarterly)</td>\n",
                            "      <td>\\n                                \\n          ...</td>\n",
                            "    </tr>\n",
                            "    <tr>\n",
                            "      <th>2</th>\n",
                            "      <td>EPS Diluted (Quarterly)</td>\n",
                            "      <td>\\n                                \\n          ...</td>\n",
                            "    </tr>\n",
                            "    <tr>\n",
                            "      <th>3</th>\n",
                            "      <td>Enterprise Value</td>\n",
                            "      <td>\\n                                \\n          ...</td>\n",
                            "    </tr>\n",
                            "    <tr>\n",
                            "      <th>4</th>\n",
                            "      <td>Gross Profit Margin (Quarterly)</td>\n",
                            "      <td>\\n                                \\n          ...</td>\n",
                            "    </tr>\n",
                            "  </tbody>\n",
                            "</table>\n",
                            "</div>"
                        ],
                        "text/plain": [
                            "                             Fecha  \\\n",
                            "0           Net Income (Quarterly)   \n",
                            "1       Total Expenses (Quarterly)   \n",
                            "2          EPS Diluted (Quarterly)   \n",
                            "3                 Enterprise Value   \n",
                            "4  Gross Profit Margin (Quarterly)   \n",
                            "\n",
                            "                                            Ingresos  \n",
                            "0  \\n                                \\n          ...  \n",
                            "1  \\n                                \\n          ...  \n",
                            "2  \\n                                \\n          ...  \n",
                            "3  \\n                                \\n          ...  \n",
                            "4  \\n                                \\n          ...  "
                        ]
                    },
                    "execution_count": 24,
                    "metadata": {},
                    "output_type": "execute_result"
                }
            ],
            "source": [
                "import os\n",
                "from bs4 import BeautifulSoup\n",
                "import requests\n",
                "import time\n",
                "import sqlite3\n",
                "import matplotlib.pyplot as plt\n",
                "import seaborn as sns\n",
                "import pandas as pd\n",
                "\n",
                "url=  \"https://ycharts.com/companies/TSLA/revenues\"\n",
                "#Headers es para que no salga error porque no sepan que eres una maquina \n",
                "\n",
                "headers = { 'User-Agent': 'Mozilla/5.0 (Windows NT 10.0; Win64; x64) AppleWebKit/537.36 (KHTML, like Gecko) Chrome/58.0.3029.110 Safari/537.36' }\n",
                "response = requests.get(url, headers= headers)\n",
                "\n",
                "\n",
                "html_data= response.text\n",
                "contenido=response.content\n",
                "response.status_code\n",
                "\n",
                "\n",
                "#soup = BeautifulSoup(html_data, \"html.parser\")\n",
                "soup2 = BeautifulSoup(contenido, \"html.parser\")\n",
                "#print(soup)\n",
                "\n",
                "tablas = soup2.find_all(\"table\")\n",
                "tablas\n",
                "\n",
                "#print (tablas)\n",
                "\n",
                "for indice, table in enumerate(tablas):\n",
                "    if (\"Tesla Quarterly Revenue\" in str(table)):\n",
                "        indice = index\n",
                "        break\n",
                "\n",
                "q_tesla = pd.DataFrame(columns=(\"Fecha\", \"Ingresos\"))\n",
                "\n",
                "for row in tablas[indice].tbody.find_all(\"tr\"):\n",
                "    columnas= row.find_all(\"td\")\n",
                "    if columnas != []:\n",
                "        Fecha= columnas[0].text\n",
                "        Ingresos= columnas[1].text.replace(\"$\", \"\").replace(\",\",\"\")\n",
                "        #Ingresos= columnas[1].text.maketrans(\"$\", \" \", \",\")\n",
                "        temp_df = pd.DataFrame({\"Fecha\": [Fecha], \"Ingresos\": [Ingresos]})\n",
                "        q_tesla = pd.concat([q_tesla, temp_df], ignore_index=True)\n",
                "\n",
                "\n",
                "q_tesla.head()"
            ]
        }
    ],
    "metadata": {
        "kernelspec": {
            "display_name": "Python 3.8.13 64-bit ('3.8.13')",
            "language": "python",
            "name": "python3"
        },
        "language_info": {
            "codemirror_mode": {
                "name": "ipython",
                "version": 3
            },
            "file_extension": ".py",
            "mimetype": "text/x-python",
            "name": "python",
            "nbconvert_exporter": "python",
            "pygments_lexer": "ipython3",
            "version": "3.12.4"
        },
        "orig_nbformat": 4,
        "vscode": {
            "interpreter": {
                "hash": "110cc1dee26208153f2972f08a2ad52b6a56238dc66d48e87fb757ef2996db56"
            }
        }
    },
    "nbformat": 4,
    "nbformat_minor": 2
}
