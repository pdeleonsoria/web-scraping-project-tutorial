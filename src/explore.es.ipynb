{
    "cells": [
        {
            "cell_type": "markdown",
            "metadata": {},
            "source": [
                "# Explora aquí\n",
                "\n",
                "Se recomienda utilizar este cuaderno con fines de exploración."
            ]
        },
        {
            "cell_type": "code",
            "execution_count": 99,
            "metadata": {},
            "outputs": [
                {
                    "data": {
                        "text/html": [
                            "<div>\n",
                            "<style scoped>\n",
                            "    .dataframe tbody tr th:only-of-type {\n",
                            "        vertical-align: middle;\n",
                            "    }\n",
                            "\n",
                            "    .dataframe tbody tr th {\n",
                            "        vertical-align: top;\n",
                            "    }\n",
                            "\n",
                            "    .dataframe thead th {\n",
                            "        text-align: right;\n",
                            "    }\n",
                            "</style>\n",
                            "<table border=\"1\" class=\"dataframe\">\n",
                            "  <thead>\n",
                            "    <tr style=\"text-align: right;\">\n",
                            "      <th></th>\n",
                            "      <th>Fecha</th>\n",
                            "      <th>Ingresos</th>\n",
                            "    </tr>\n",
                            "  </thead>\n",
                            "  <tbody>\n",
                            "    <tr>\n",
                            "      <th>0</th>\n",
                            "      <td>March 31, 2018</td>\n",
                            "      <td>340900000000</td>\n",
                            "    </tr>\n",
                            "    <tr>\n",
                            "      <th>1</th>\n",
                            "      <td>December 31, 2017</td>\n",
                            "      <td>328800000000</td>\n",
                            "    </tr>\n",
                            "    <tr>\n",
                            "      <th>2</th>\n",
                            "      <td>September 30, 2017</td>\n",
                            "      <td>298500000000</td>\n",
                            "    </tr>\n",
                            "    <tr>\n",
                            "      <th>3</th>\n",
                            "      <td>June 30, 2017</td>\n",
                            "      <td>279000000000</td>\n",
                            "    </tr>\n",
                            "    <tr>\n",
                            "      <th>4</th>\n",
                            "      <td>March 31, 2017</td>\n",
                            "      <td>269600000000</td>\n",
                            "    </tr>\n",
                            "  </tbody>\n",
                            "</table>\n",
                            "</div>"
                        ],
                        "text/plain": [
                            "                Fecha      Ingresos\n",
                            "0      March 31, 2018  340900000000\n",
                            "1   December 31, 2017  328800000000\n",
                            "2  September 30, 2017  298500000000\n",
                            "3       June 30, 2017  279000000000\n",
                            "4      March 31, 2017  269600000000"
                        ]
                    },
                    "execution_count": 99,
                    "metadata": {},
                    "output_type": "execute_result"
                }
            ],
            "source": [
                "import os\n",
                "from bs4 import BeautifulSoup\n",
                "import requests\n",
                "import time\n",
                "import sqlite3\n",
                "import matplotlib.pyplot as plt\n",
                "import seaborn as sns\n",
                "import pandas as pd\n",
                "\n",
                "url=  \"https://ycharts.com/companies/TSLA/revenues\"\n",
                "#Headers es para que no salga error porque no sepan que eres una maquina \n",
                "\n",
                "headers = { 'User-Agent': 'Mozilla/5.0 (Windows NT 10.0; Win64; x64) AppleWebKit/537.36 (KHTML, like Gecko) Chrome/58.0.3029.110 Safari/537.36' }\n",
                "response = requests.get(url, headers= headers)\n",
                "\n",
                "\n",
                "html_data= response.text\n",
                "contenido=response.content\n",
                "response.status_code\n",
                "\n",
                "\n",
                "soup = BeautifulSoup(html_data, \"html.parser\")\n",
                "soup2 = BeautifulSoup(contenido, \"html.parser\")\n",
                "#print(soup)\n",
                "\n",
                "tablas = soup.find_all(\"table\")\n",
                "\n",
                "\n",
                "\n",
                "\n",
                "#for index, table in enumerate(tablas):\n",
                "    #print(table)\n",
                "    #if (\"Historical Revenue (Quarterly) Data\" in str(table)):\n",
                "        #print(\"entre\")\n",
                "        #indice = index\n",
                "        #break\n",
                "\n",
                "q_tesla = pd.DataFrame(columns=(\"Fecha\", \"Ingresos\"))\n",
                "\n",
                "for row in tablas[1].tbody.find_all(\"tr\"):\n",
                "    columnas= row.find_all(\"td\")\n",
                "    if columnas != []:\n",
                "        Fecha= columnas[0].text\n",
                "        Ingresos= columnas[1].text.replace(\"\\n\", \" \").strip().replace(\"B\", \"00000000\").replace(\".\", \"\")\n",
                "        #Ingresos=' '.join(columnas[1].text.splitlines()).strip()\n",
                "    \n",
                "        temp_df = pd.DataFrame({\"Fecha\": [Fecha], \"Ingresos\": [Ingresos]})\n",
                "        q_tesla = pd.concat([q_tesla, temp_df], ignore_index=True)\n",
                "        \n",
                "for row in tablas[0].tbody.find_all(\"tr\"):\n",
                "    columnas= row.find_all(\"td\")\n",
                "    if columnas != []:\n",
                "        Fecha= columnas[0].text\n",
                "        Ingresos= columnas[1].text.replace(\"\\n\", \" \").strip().replace(\"B\", \"00000000\").replace(\".\", \"\")\n",
                "        #Ingresos=' '.join(columnas[1].text.splitlines()).strip()\n",
                "    \n",
                "        temp_df = pd.DataFrame({\"Fecha\": [Fecha], \"Ingresos\": [Ingresos]})\n",
                "        q_tesla = pd.concat([q_tesla, temp_df], ignore_index=True)\n",
                "\n",
                "\n",
                "q_tesla.head()\n",
                "\n"
            ]
        }
    ],
    "metadata": {
        "kernelspec": {
            "display_name": "Python 3.8.13 64-bit ('3.8.13')",
            "language": "python",
            "name": "python3"
        },
        "language_info": {
            "codemirror_mode": {
                "name": "ipython",
                "version": 3
            },
            "file_extension": ".py",
            "mimetype": "text/x-python",
            "name": "python",
            "nbconvert_exporter": "python",
            "pygments_lexer": "ipython3",
            "version": "3.12.4"
        },
        "orig_nbformat": 4,
        "vscode": {
            "interpreter": {
                "hash": "110cc1dee26208153f2972f08a2ad52b6a56238dc66d48e87fb757ef2996db56"
            }
        }
    },
    "nbformat": 4,
    "nbformat_minor": 2
}
